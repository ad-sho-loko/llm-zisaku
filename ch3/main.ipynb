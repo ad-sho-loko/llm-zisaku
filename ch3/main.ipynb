{
 "cells": [
  {
   "metadata": {
    "ExecuteTime": {
     "end_time": "2025-07-20T23:11:02.505385Z",
     "start_time": "2025-07-20T23:11:02.502459Z"
    }
   },
   "cell_type": "code",
   "source": [
    "import torch\n",
    "\n",
    "inputs = torch.tensor(\n",
    "  [[0.43, 0.15, 0.89], # Your     (x^1)\n",
    "   [0.55, 0.87, 0.66], # journey  (x^2)\n",
    "   [0.57, 0.85, 0.64], # starts   (x^3)\n",
    "   [0.22, 0.58, 0.33], # with     (x^4)\n",
    "   [0.77, 0.25, 0.10], # one      (x^5)\n",
    "   [0.05, 0.80, 0.55]] # step     (x^6)\n",
    ")"
   ],
   "id": "b7d31c8b031d8e6a",
   "outputs": [],
   "execution_count": 3
  },
  {
   "metadata": {
    "ExecuteTime": {
     "end_time": "2025-07-20T23:14:03.048831Z",
     "start_time": "2025-07-20T23:14:03.045227Z"
    }
   },
   "cell_type": "code",
   "source": [
    "query = inputs[1]\n",
    "attn_score_2 = torch.empty(inputs.shape[0])\n",
    "for i, x_n in enumerate(inputs):\n",
    "    attn_score_2[i] = torch.dot(query, x_n)\n",
    "\n",
    "print(attn_score_2)\n",
    "print(torch.softmax(attn_score_2, dim=0))"
   ],
   "id": "a9ccc6e697685514",
   "outputs": [
    {
     "name": "stdout",
     "output_type": "stream",
     "text": [
      "tensor([0.9544, 1.4950, 1.4754, 0.8434, 0.7070, 1.0865])\n",
      "tensor([0.1385, 0.2379, 0.2333, 0.1240, 0.1082, 0.1581])\n"
     ]
    }
   ],
   "execution_count": 11
  },
  {
   "metadata": {
    "ExecuteTime": {
     "end_time": "2025-07-20T23:21:12.398171Z",
     "start_time": "2025-07-20T23:21:12.393014Z"
    }
   },
   "cell_type": "code",
   "source": [
    "attn_weight = torch.softmax(inputs @ inputs.T, dim=-1)\n",
    "all_context_vectors = attn_weight @ inputs\n",
    "print(all_context_vectors)"
   ],
   "id": "19d2d073e15238de",
   "outputs": [
    {
     "name": "stdout",
     "output_type": "stream",
     "text": [
      "tensor([[0.4421, 0.5931, 0.5790],\n",
      "        [0.4419, 0.6515, 0.5683],\n",
      "        [0.4431, 0.6496, 0.5671],\n",
      "        [0.4304, 0.6298, 0.5510],\n",
      "        [0.4671, 0.5910, 0.5266],\n",
      "        [0.4177, 0.6503, 0.5645]])\n"
     ]
    }
   ],
   "execution_count": 15
  },
  {
   "metadata": {
    "ExecuteTime": {
     "end_time": "2025-07-20T23:32:20.131159Z",
     "start_time": "2025-07-20T23:32:20.125378Z"
    }
   },
   "cell_type": "code",
   "source": [
    "class SelfAttention(torch.nn.Module):\n",
    "    def __init__(self, input_dim, output_dim):\n",
    "        super().__init__()\n",
    "        self.query = torch.nn.Linear(input_dim, output_dim)\n",
    "        self.key = torch.nn.Linear(input_dim, output_dim)\n",
    "        self.value = torch.nn.Linear(input_dim, output_dim)\n",
    "\n",
    "    def forward(self, x):\n",
    "        query = self.query(x)\n",
    "        key = self.key(x)\n",
    "        value = self.value(x)\n",
    "\n",
    "        attn_score = query @ key.T\n",
    "        attn_weights = torch.softmax(attn_score / key.shape[-1]**0.5, dim=-1)\n",
    "        context_vector = attn_weights @ value\n",
    "        return context_vector"
   ],
   "id": "69fccf1661d9bcdd",
   "outputs": [],
   "execution_count": 20
  },
  {
   "metadata": {
    "ExecuteTime": {
     "end_time": "2025-07-20T23:32:21.909053Z",
     "start_time": "2025-07-20T23:32:21.901696Z"
    }
   },
   "cell_type": "code",
   "source": [
    "torch.manual_seed(789)\n",
    "d_in = 3\n",
    "d_out = 2\n",
    "attention = SelfAttention(d_in, d_out)\n",
    "\n",
    "attention(inputs)"
   ],
   "id": "d1561ff679c2c678",
   "outputs": [
    {
     "data": {
      "text/plain": [
       "tensor([[-0.3427, -0.2720],\n",
       "        [-0.3439, -0.2692],\n",
       "        [-0.3438, -0.2693],\n",
       "        [-0.3417, -0.2728],\n",
       "        [-0.3412, -0.2736],\n",
       "        [-0.3426, -0.2714]], grad_fn=<MmBackward0>)"
      ]
     },
     "execution_count": 21,
     "metadata": {},
     "output_type": "execute_result"
    }
   ],
   "execution_count": 21
  }
 ],
 "metadata": {
  "kernelspec": {
   "display_name": "Python 3",
   "language": "python",
   "name": "python3"
  },
  "language_info": {
   "codemirror_mode": {
    "name": "ipython",
    "version": 2
   },
   "file_extension": ".py",
   "mimetype": "text/x-python",
   "name": "python",
   "nbconvert_exporter": "python",
   "pygments_lexer": "ipython2",
   "version": "2.7.6"
  }
 },
 "nbformat": 4,
 "nbformat_minor": 5
}
